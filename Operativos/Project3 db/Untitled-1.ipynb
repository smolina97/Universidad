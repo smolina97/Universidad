{
 "cells": [
  {
   "cell_type": "code",
   "execution_count": null,
   "metadata": {},
   "outputs": [],
   "source": [
    "import shelve\n",
    "import pandas as pd\n",
    "\n",
    "# Cargar los datos de 'logs.db'\n",
    "with shelve.open('robots.db') as db:\n",
    "    robots = db['robots']\n",
    "\n",
    "# Convertir los datos en un DataFrame de pandas\n",
    "df = pd.DataFrame(robots)\n",
    "\n",
    "# Mostrar el DataFrame\n",
    "df"
   ]
  },
  {
   "cell_type": "code",
   "execution_count": null,
   "metadata": {},
   "outputs": [],
   "source": [
    "import shelve\n",
    "import pandas as pd\n",
    "\n",
    "# Cargar los datos de 'logs.db'\n",
    "with shelve.open('logs.db') as db:\n",
    "    logs = db['logs']\n",
    "\n",
    "# Convertir los datos en un DataFrame de pandas\n",
    "df = pd.DataFrame(logs)\n",
    "\n",
    "#pd.set_option('display.max_rows', None)\n",
    "\n",
    "# Mostrar el DataFrame\n",
    "df"
   ]
  }
 ],
 "metadata": {
  "kernelspec": {
   "display_name": "Python 3",
   "language": "python",
   "name": "python3"
  },
  "language_info": {
   "codemirror_mode": {
    "name": "ipython",
    "version": 3
   },
   "file_extension": ".py",
   "mimetype": "text/x-python",
   "name": "python",
   "nbconvert_exporter": "python",
   "pygments_lexer": "ipython3",
   "version": "3.11.9"
  }
 },
 "nbformat": 4,
 "nbformat_minor": 2
}
